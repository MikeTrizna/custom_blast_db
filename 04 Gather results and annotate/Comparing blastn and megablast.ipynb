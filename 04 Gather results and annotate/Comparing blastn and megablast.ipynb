{
 "cells": [
  {
   "cell_type": "code",
   "execution_count": 1,
   "metadata": {},
   "outputs": [],
   "source": [
    "import pandas as pd\n",
    "import os"
   ]
  },
  {
   "cell_type": "code",
   "execution_count": 2,
   "metadata": {},
   "outputs": [],
   "source": [
    "blast_logs = []\n",
    "megablast_logs = [os.path.join('logs',log_file) for log_file in os.listdir('logs')]\n",
    "blastn_logs = [os.path.join('blastn_logs',log_file) for log_file in os.listdir('blastn_logs')]\n",
    "log_files = megablast_logs + blastn_logs\n",
    "for log_file in log_files:\n",
    "    if 'loop_' in log_file or 'loopn_' in log_file:\n",
    "        task_id = log_file.split('.')[0].split('_')[1]\n",
    "        with open(log_file) as read_log:\n",
    "            log_entry = {'task_id': task_id}\n",
    "            for line in read_log:\n",
    "                if line.startswith('+'):\n",
    "                    line_split = line.strip().split(' ')\n",
    "                    log_entry['start_month'] = line_split[2]\n",
    "                    log_entry['start_day'] = line_split[3]\n",
    "                    log_entry['start_year'] = line_split[6]\n",
    "                    log_entry['start_time'] = line_split[4]\n",
    "                    log_entry['queue'] = line_split[11]\n",
    "                    log_entry['job_id'] = line_split[13].split('=')[1]\n",
    "                    log_entry['node'] = line_split[15]\n",
    "                elif line.startswith('='):\n",
    "                    line_split = line.strip().split(' ')\n",
    "                    log_entry['end_month'] = line_split[2]\n",
    "                    log_entry['end_day'] = line_split[3]\n",
    "                    log_entry['end_year'] = line_split[6]\n",
    "                    log_entry['end_time'] = line_split[4]\n",
    "                    if line_split[8].split('_')[0] == 'blast':\n",
    "                        log_entry['task'] = 'megablast'\n",
    "                        log_entry['seq_count'] = 300\n",
    "                    elif line_split[8].split('_')[0] == 'blastn':\n",
    "                        log_entry['task'] = 'blastn'\n",
    "                        log_entry['seq_count'] = 100\n",
    "            blast_logs.append(log_entry)"
   ]
  },
  {
   "cell_type": "code",
   "execution_count": 3,
   "metadata": {},
   "outputs": [
    {
     "data": {
      "text/html": [
       "<div>\n",
       "<style scoped>\n",
       "    .dataframe tbody tr th:only-of-type {\n",
       "        vertical-align: middle;\n",
       "    }\n",
       "\n",
       "    .dataframe tbody tr th {\n",
       "        vertical-align: top;\n",
       "    }\n",
       "\n",
       "    .dataframe thead th {\n",
       "        text-align: right;\n",
       "    }\n",
       "</style>\n",
       "<table border=\"1\" class=\"dataframe\">\n",
       "  <thead>\n",
       "    <tr style=\"text-align: right;\">\n",
       "      <th></th>\n",
       "      <th>end_day</th>\n",
       "      <th>end_month</th>\n",
       "      <th>end_time</th>\n",
       "      <th>end_year</th>\n",
       "      <th>job_id</th>\n",
       "      <th>node</th>\n",
       "      <th>queue</th>\n",
       "      <th>seq_count</th>\n",
       "      <th>start_day</th>\n",
       "      <th>start_month</th>\n",
       "      <th>start_time</th>\n",
       "      <th>start_year</th>\n",
       "      <th>task</th>\n",
       "      <th>task_id</th>\n",
       "    </tr>\n",
       "  </thead>\n",
       "  <tbody>\n",
       "    <tr>\n",
       "      <th>0</th>\n",
       "      <td>8</td>\n",
       "      <td>Apr</td>\n",
       "      <td>17:32:59</td>\n",
       "      <td>2020</td>\n",
       "      <td>7636651</td>\n",
       "      <td>compute-64-09</td>\n",
       "      <td>sThC.q</td>\n",
       "      <td>300</td>\n",
       "      <td>8</td>\n",
       "      <td>Apr</td>\n",
       "      <td>17:31:30</td>\n",
       "      <td>2020</td>\n",
       "      <td>megablast</td>\n",
       "      <td>899</td>\n",
       "    </tr>\n",
       "    <tr>\n",
       "      <th>1</th>\n",
       "      <td>8</td>\n",
       "      <td>Apr</td>\n",
       "      <td>17:33:51</td>\n",
       "      <td>2020</td>\n",
       "      <td>7636651</td>\n",
       "      <td>compute-81-07</td>\n",
       "      <td>sThC.q</td>\n",
       "      <td>300</td>\n",
       "      <td>8</td>\n",
       "      <td>Apr</td>\n",
       "      <td>17:29:29</td>\n",
       "      <td>2020</td>\n",
       "      <td>megablast</td>\n",
       "      <td>801</td>\n",
       "    </tr>\n",
       "    <tr>\n",
       "      <th>2</th>\n",
       "      <td>8</td>\n",
       "      <td>Apr</td>\n",
       "      <td>17:21:47</td>\n",
       "      <td>2020</td>\n",
       "      <td>7636651</td>\n",
       "      <td>compute-81-30</td>\n",
       "      <td>sThC.q</td>\n",
       "      <td>300</td>\n",
       "      <td>8</td>\n",
       "      <td>Apr</td>\n",
       "      <td>17:19:17</td>\n",
       "      <td>2020</td>\n",
       "      <td>megablast</td>\n",
       "      <td>372</td>\n",
       "    </tr>\n",
       "    <tr>\n",
       "      <th>3</th>\n",
       "      <td>8</td>\n",
       "      <td>Apr</td>\n",
       "      <td>17:15:51</td>\n",
       "      <td>2020</td>\n",
       "      <td>7636651</td>\n",
       "      <td>compute-43-24</td>\n",
       "      <td>sThC.q</td>\n",
       "      <td>300</td>\n",
       "      <td>8</td>\n",
       "      <td>Apr</td>\n",
       "      <td>17:14:29</td>\n",
       "      <td>2020</td>\n",
       "      <td>megablast</td>\n",
       "      <td>141</td>\n",
       "    </tr>\n",
       "    <tr>\n",
       "      <th>4</th>\n",
       "      <td>8</td>\n",
       "      <td>Apr</td>\n",
       "      <td>17:26:35</td>\n",
       "      <td>2020</td>\n",
       "      <td>7636651</td>\n",
       "      <td>compute-81-30</td>\n",
       "      <td>sThC.q</td>\n",
       "      <td>300</td>\n",
       "      <td>8</td>\n",
       "      <td>Apr</td>\n",
       "      <td>17:24:16</td>\n",
       "      <td>2020</td>\n",
       "      <td>megablast</td>\n",
       "      <td>602</td>\n",
       "    </tr>\n",
       "  </tbody>\n",
       "</table>\n",
       "</div>"
      ],
      "text/plain": [
       "  end_day end_month  end_time end_year   job_id           node   queue  \\\n",
       "0       8       Apr  17:32:59     2020  7636651  compute-64-09  sThC.q   \n",
       "1       8       Apr  17:33:51     2020  7636651  compute-81-07  sThC.q   \n",
       "2       8       Apr  17:21:47     2020  7636651  compute-81-30  sThC.q   \n",
       "3       8       Apr  17:15:51     2020  7636651  compute-43-24  sThC.q   \n",
       "4       8       Apr  17:26:35     2020  7636651  compute-81-30  sThC.q   \n",
       "\n",
       "   seq_count start_day start_month start_time start_year       task task_id  \n",
       "0        300         8         Apr   17:31:30       2020  megablast     899  \n",
       "1        300         8         Apr   17:29:29       2020  megablast     801  \n",
       "2        300         8         Apr   17:19:17       2020  megablast     372  \n",
       "3        300         8         Apr   17:14:29       2020  megablast     141  \n",
       "4        300         8         Apr   17:24:16       2020  megablast     602  "
      ]
     },
     "execution_count": 3,
     "metadata": {},
     "output_type": "execute_result"
    }
   ],
   "source": [
    "log_df = pd.DataFrame(blast_logs)\n",
    "log_df.head()"
   ]
  },
  {
   "cell_type": "code",
   "execution_count": 4,
   "metadata": {},
   "outputs": [
    {
     "name": "stdout",
     "output_type": "stream",
     "text": [
      "<class 'pandas.core.frame.DataFrame'>\n",
      "RangeIndex: 3998 entries, 0 to 3997\n",
      "Data columns (total 14 columns):\n",
      "end_day        3998 non-null object\n",
      "end_month      3998 non-null object\n",
      "end_time       3998 non-null object\n",
      "end_year       3998 non-null object\n",
      "job_id         3998 non-null object\n",
      "node           3998 non-null object\n",
      "queue          3998 non-null object\n",
      "seq_count      3998 non-null int64\n",
      "start_day      3998 non-null object\n",
      "start_month    3998 non-null object\n",
      "start_time     3998 non-null object\n",
      "start_year     3998 non-null object\n",
      "task           3998 non-null object\n",
      "task_id        3998 non-null object\n",
      "dtypes: int64(1), object(13)\n",
      "memory usage: 437.4+ KB\n"
     ]
    }
   ],
   "source": [
    "log_df.info()"
   ]
  },
  {
   "cell_type": "code",
   "execution_count": 5,
   "metadata": {},
   "outputs": [
    {
     "data": {
      "text/html": [
       "<div>\n",
       "<style scoped>\n",
       "    .dataframe tbody tr th:only-of-type {\n",
       "        vertical-align: middle;\n",
       "    }\n",
       "\n",
       "    .dataframe tbody tr th {\n",
       "        vertical-align: top;\n",
       "    }\n",
       "\n",
       "    .dataframe thead th {\n",
       "        text-align: right;\n",
       "    }\n",
       "</style>\n",
       "<table border=\"1\" class=\"dataframe\">\n",
       "  <thead>\n",
       "    <tr style=\"text-align: right;\">\n",
       "      <th></th>\n",
       "      <th>end_day</th>\n",
       "      <th>end_month</th>\n",
       "      <th>end_time</th>\n",
       "      <th>end_year</th>\n",
       "      <th>job_id</th>\n",
       "      <th>node</th>\n",
       "      <th>queue</th>\n",
       "      <th>seq_count</th>\n",
       "      <th>start_day</th>\n",
       "      <th>start_month</th>\n",
       "      <th>start_time</th>\n",
       "      <th>start_year</th>\n",
       "      <th>task</th>\n",
       "      <th>task_id</th>\n",
       "      <th>start_dt</th>\n",
       "      <th>end_dt</th>\n",
       "    </tr>\n",
       "  </thead>\n",
       "  <tbody>\n",
       "    <tr>\n",
       "      <th>0</th>\n",
       "      <td>8</td>\n",
       "      <td>Apr</td>\n",
       "      <td>17:32:59</td>\n",
       "      <td>2020</td>\n",
       "      <td>7636651</td>\n",
       "      <td>compute-64-09</td>\n",
       "      <td>sThC.q</td>\n",
       "      <td>300</td>\n",
       "      <td>8</td>\n",
       "      <td>Apr</td>\n",
       "      <td>17:31:30</td>\n",
       "      <td>2020</td>\n",
       "      <td>megablast</td>\n",
       "      <td>899</td>\n",
       "      <td>2020-04-08 17:31:30</td>\n",
       "      <td>2020-04-08 17:32:59</td>\n",
       "    </tr>\n",
       "    <tr>\n",
       "      <th>1</th>\n",
       "      <td>8</td>\n",
       "      <td>Apr</td>\n",
       "      <td>17:33:51</td>\n",
       "      <td>2020</td>\n",
       "      <td>7636651</td>\n",
       "      <td>compute-81-07</td>\n",
       "      <td>sThC.q</td>\n",
       "      <td>300</td>\n",
       "      <td>8</td>\n",
       "      <td>Apr</td>\n",
       "      <td>17:29:29</td>\n",
       "      <td>2020</td>\n",
       "      <td>megablast</td>\n",
       "      <td>801</td>\n",
       "      <td>2020-04-08 17:29:29</td>\n",
       "      <td>2020-04-08 17:33:51</td>\n",
       "    </tr>\n",
       "    <tr>\n",
       "      <th>2</th>\n",
       "      <td>8</td>\n",
       "      <td>Apr</td>\n",
       "      <td>17:21:47</td>\n",
       "      <td>2020</td>\n",
       "      <td>7636651</td>\n",
       "      <td>compute-81-30</td>\n",
       "      <td>sThC.q</td>\n",
       "      <td>300</td>\n",
       "      <td>8</td>\n",
       "      <td>Apr</td>\n",
       "      <td>17:19:17</td>\n",
       "      <td>2020</td>\n",
       "      <td>megablast</td>\n",
       "      <td>372</td>\n",
       "      <td>2020-04-08 17:19:17</td>\n",
       "      <td>2020-04-08 17:21:47</td>\n",
       "    </tr>\n",
       "    <tr>\n",
       "      <th>3</th>\n",
       "      <td>8</td>\n",
       "      <td>Apr</td>\n",
       "      <td>17:15:51</td>\n",
       "      <td>2020</td>\n",
       "      <td>7636651</td>\n",
       "      <td>compute-43-24</td>\n",
       "      <td>sThC.q</td>\n",
       "      <td>300</td>\n",
       "      <td>8</td>\n",
       "      <td>Apr</td>\n",
       "      <td>17:14:29</td>\n",
       "      <td>2020</td>\n",
       "      <td>megablast</td>\n",
       "      <td>141</td>\n",
       "      <td>2020-04-08 17:14:29</td>\n",
       "      <td>2020-04-08 17:15:51</td>\n",
       "    </tr>\n",
       "    <tr>\n",
       "      <th>4</th>\n",
       "      <td>8</td>\n",
       "      <td>Apr</td>\n",
       "      <td>17:26:35</td>\n",
       "      <td>2020</td>\n",
       "      <td>7636651</td>\n",
       "      <td>compute-81-30</td>\n",
       "      <td>sThC.q</td>\n",
       "      <td>300</td>\n",
       "      <td>8</td>\n",
       "      <td>Apr</td>\n",
       "      <td>17:24:16</td>\n",
       "      <td>2020</td>\n",
       "      <td>megablast</td>\n",
       "      <td>602</td>\n",
       "      <td>2020-04-08 17:24:16</td>\n",
       "      <td>2020-04-08 17:26:35</td>\n",
       "    </tr>\n",
       "  </tbody>\n",
       "</table>\n",
       "</div>"
      ],
      "text/plain": [
       "  end_day end_month  end_time end_year   job_id           node   queue  \\\n",
       "0       8       Apr  17:32:59     2020  7636651  compute-64-09  sThC.q   \n",
       "1       8       Apr  17:33:51     2020  7636651  compute-81-07  sThC.q   \n",
       "2       8       Apr  17:21:47     2020  7636651  compute-81-30  sThC.q   \n",
       "3       8       Apr  17:15:51     2020  7636651  compute-43-24  sThC.q   \n",
       "4       8       Apr  17:26:35     2020  7636651  compute-81-30  sThC.q   \n",
       "\n",
       "   seq_count start_day start_month start_time start_year       task task_id  \\\n",
       "0        300         8         Apr   17:31:30       2020  megablast     899   \n",
       "1        300         8         Apr   17:29:29       2020  megablast     801   \n",
       "2        300         8         Apr   17:19:17       2020  megablast     372   \n",
       "3        300         8         Apr   17:14:29       2020  megablast     141   \n",
       "4        300         8         Apr   17:24:16       2020  megablast     602   \n",
       "\n",
       "             start_dt              end_dt  \n",
       "0 2020-04-08 17:31:30 2020-04-08 17:32:59  \n",
       "1 2020-04-08 17:29:29 2020-04-08 17:33:51  \n",
       "2 2020-04-08 17:19:17 2020-04-08 17:21:47  \n",
       "3 2020-04-08 17:14:29 2020-04-08 17:15:51  \n",
       "4 2020-04-08 17:24:16 2020-04-08 17:26:35  "
      ]
     },
     "execution_count": 5,
     "metadata": {},
     "output_type": "execute_result"
    }
   ],
   "source": [
    "log_df['start_dt'] = pd.to_datetime(log_df['start_month'] + ' ' + \\\n",
    "                                    log_df['start_day'] + ' ' + \\\n",
    "                                    log_df['start_year'] + ' ' + \\\n",
    "                                    log_df['start_time'])\n",
    "log_df['end_dt'] = pd.to_datetime(log_df['end_month'] + ' ' + \\\n",
    "                                    log_df['end_day'] + ' ' + \\\n",
    "                                    log_df['end_year'] + ' ' + \\\n",
    "                                    log_df['end_time'])\n",
    "log_df.head()"
   ]
  },
  {
   "cell_type": "code",
   "execution_count": 6,
   "metadata": {},
   "outputs": [
    {
     "data": {
      "text/html": [
       "<div>\n",
       "<style scoped>\n",
       "    .dataframe tbody tr th:only-of-type {\n",
       "        vertical-align: middle;\n",
       "    }\n",
       "\n",
       "    .dataframe tbody tr th {\n",
       "        vertical-align: top;\n",
       "    }\n",
       "\n",
       "    .dataframe thead th {\n",
       "        text-align: right;\n",
       "    }\n",
       "</style>\n",
       "<table border=\"1\" class=\"dataframe\">\n",
       "  <thead>\n",
       "    <tr style=\"text-align: right;\">\n",
       "      <th></th>\n",
       "      <th>end_day</th>\n",
       "      <th>end_month</th>\n",
       "      <th>end_time</th>\n",
       "      <th>end_year</th>\n",
       "      <th>job_id</th>\n",
       "      <th>node</th>\n",
       "      <th>queue</th>\n",
       "      <th>seq_count</th>\n",
       "      <th>start_day</th>\n",
       "      <th>start_month</th>\n",
       "      <th>start_time</th>\n",
       "      <th>start_year</th>\n",
       "      <th>task</th>\n",
       "      <th>task_id</th>\n",
       "      <th>start_dt</th>\n",
       "      <th>end_dt</th>\n",
       "      <th>elapsed_time</th>\n",
       "    </tr>\n",
       "  </thead>\n",
       "  <tbody>\n",
       "    <tr>\n",
       "      <th>0</th>\n",
       "      <td>8</td>\n",
       "      <td>Apr</td>\n",
       "      <td>17:32:59</td>\n",
       "      <td>2020</td>\n",
       "      <td>7636651</td>\n",
       "      <td>compute-64-09</td>\n",
       "      <td>sThC.q</td>\n",
       "      <td>300</td>\n",
       "      <td>8</td>\n",
       "      <td>Apr</td>\n",
       "      <td>17:31:30</td>\n",
       "      <td>2020</td>\n",
       "      <td>megablast</td>\n",
       "      <td>899</td>\n",
       "      <td>2020-04-08 17:31:30</td>\n",
       "      <td>2020-04-08 17:32:59</td>\n",
       "      <td>00:01:29</td>\n",
       "    </tr>\n",
       "    <tr>\n",
       "      <th>1</th>\n",
       "      <td>8</td>\n",
       "      <td>Apr</td>\n",
       "      <td>17:33:51</td>\n",
       "      <td>2020</td>\n",
       "      <td>7636651</td>\n",
       "      <td>compute-81-07</td>\n",
       "      <td>sThC.q</td>\n",
       "      <td>300</td>\n",
       "      <td>8</td>\n",
       "      <td>Apr</td>\n",
       "      <td>17:29:29</td>\n",
       "      <td>2020</td>\n",
       "      <td>megablast</td>\n",
       "      <td>801</td>\n",
       "      <td>2020-04-08 17:29:29</td>\n",
       "      <td>2020-04-08 17:33:51</td>\n",
       "      <td>00:04:22</td>\n",
       "    </tr>\n",
       "    <tr>\n",
       "      <th>2</th>\n",
       "      <td>8</td>\n",
       "      <td>Apr</td>\n",
       "      <td>17:21:47</td>\n",
       "      <td>2020</td>\n",
       "      <td>7636651</td>\n",
       "      <td>compute-81-30</td>\n",
       "      <td>sThC.q</td>\n",
       "      <td>300</td>\n",
       "      <td>8</td>\n",
       "      <td>Apr</td>\n",
       "      <td>17:19:17</td>\n",
       "      <td>2020</td>\n",
       "      <td>megablast</td>\n",
       "      <td>372</td>\n",
       "      <td>2020-04-08 17:19:17</td>\n",
       "      <td>2020-04-08 17:21:47</td>\n",
       "      <td>00:02:30</td>\n",
       "    </tr>\n",
       "    <tr>\n",
       "      <th>3</th>\n",
       "      <td>8</td>\n",
       "      <td>Apr</td>\n",
       "      <td>17:15:51</td>\n",
       "      <td>2020</td>\n",
       "      <td>7636651</td>\n",
       "      <td>compute-43-24</td>\n",
       "      <td>sThC.q</td>\n",
       "      <td>300</td>\n",
       "      <td>8</td>\n",
       "      <td>Apr</td>\n",
       "      <td>17:14:29</td>\n",
       "      <td>2020</td>\n",
       "      <td>megablast</td>\n",
       "      <td>141</td>\n",
       "      <td>2020-04-08 17:14:29</td>\n",
       "      <td>2020-04-08 17:15:51</td>\n",
       "      <td>00:01:22</td>\n",
       "    </tr>\n",
       "    <tr>\n",
       "      <th>4</th>\n",
       "      <td>8</td>\n",
       "      <td>Apr</td>\n",
       "      <td>17:26:35</td>\n",
       "      <td>2020</td>\n",
       "      <td>7636651</td>\n",
       "      <td>compute-81-30</td>\n",
       "      <td>sThC.q</td>\n",
       "      <td>300</td>\n",
       "      <td>8</td>\n",
       "      <td>Apr</td>\n",
       "      <td>17:24:16</td>\n",
       "      <td>2020</td>\n",
       "      <td>megablast</td>\n",
       "      <td>602</td>\n",
       "      <td>2020-04-08 17:24:16</td>\n",
       "      <td>2020-04-08 17:26:35</td>\n",
       "      <td>00:02:19</td>\n",
       "    </tr>\n",
       "  </tbody>\n",
       "</table>\n",
       "</div>"
      ],
      "text/plain": [
       "  end_day end_month  end_time end_year   job_id           node   queue  \\\n",
       "0       8       Apr  17:32:59     2020  7636651  compute-64-09  sThC.q   \n",
       "1       8       Apr  17:33:51     2020  7636651  compute-81-07  sThC.q   \n",
       "2       8       Apr  17:21:47     2020  7636651  compute-81-30  sThC.q   \n",
       "3       8       Apr  17:15:51     2020  7636651  compute-43-24  sThC.q   \n",
       "4       8       Apr  17:26:35     2020  7636651  compute-81-30  sThC.q   \n",
       "\n",
       "   seq_count start_day start_month start_time start_year       task task_id  \\\n",
       "0        300         8         Apr   17:31:30       2020  megablast     899   \n",
       "1        300         8         Apr   17:29:29       2020  megablast     801   \n",
       "2        300         8         Apr   17:19:17       2020  megablast     372   \n",
       "3        300         8         Apr   17:14:29       2020  megablast     141   \n",
       "4        300         8         Apr   17:24:16       2020  megablast     602   \n",
       "\n",
       "             start_dt              end_dt elapsed_time  \n",
       "0 2020-04-08 17:31:30 2020-04-08 17:32:59     00:01:29  \n",
       "1 2020-04-08 17:29:29 2020-04-08 17:33:51     00:04:22  \n",
       "2 2020-04-08 17:19:17 2020-04-08 17:21:47     00:02:30  \n",
       "3 2020-04-08 17:14:29 2020-04-08 17:15:51     00:01:22  \n",
       "4 2020-04-08 17:24:16 2020-04-08 17:26:35     00:02:19  "
      ]
     },
     "execution_count": 6,
     "metadata": {},
     "output_type": "execute_result"
    }
   ],
   "source": [
    "log_df['elapsed_time'] = log_df['end_dt'] - log_df['start_dt']\n",
    "log_df.head()"
   ]
  },
  {
   "cell_type": "code",
   "execution_count": 7,
   "metadata": {},
   "outputs": [
    {
     "data": {
      "text/plain": [
       "array(['megablast', 'blastn'], dtype=object)"
      ]
     },
     "execution_count": 7,
     "metadata": {},
     "output_type": "execute_result"
    }
   ],
   "source": [
    "log_df['task'].unique()"
   ]
  },
  {
   "cell_type": "code",
   "execution_count": 8,
   "metadata": {},
   "outputs": [
    {
     "data": {
      "text/plain": [
       "Timedelta('1 days 10:28:01')"
      ]
     },
     "execution_count": 8,
     "metadata": {},
     "output_type": "execute_result"
    }
   ],
   "source": [
    "log_df[log_df['task'] == 'megablast']['elapsed_time'].sum()"
   ]
  },
  {
   "cell_type": "code",
   "execution_count": 9,
   "metadata": {},
   "outputs": [
    {
     "data": {
      "text/plain": [
       "Timedelta('358 days 01:55:30')"
      ]
     },
     "execution_count": 9,
     "metadata": {},
     "output_type": "execute_result"
    }
   ],
   "source": [
    "log_df[log_df['task'] == 'blastn']['elapsed_time'].sum()"
   ]
  },
  {
   "cell_type": "code",
   "execution_count": 10,
   "metadata": {},
   "outputs": [
    {
     "data": {
      "text/plain": [
       "count                      1000\n",
       "mean     0 days 00:02:04.081000\n",
       "std      0 days 00:00:46.806188\n",
       "min             0 days 00:00:31\n",
       "25%             0 days 00:01:24\n",
       "50%      0 days 00:02:02.500000\n",
       "75%      0 days 00:02:37.250000\n",
       "max             0 days 00:06:30\n",
       "Name: elapsed_time, dtype: object"
      ]
     },
     "execution_count": 10,
     "metadata": {},
     "output_type": "execute_result"
    }
   ],
   "source": [
    "log_df[log_df['task'] == 'megablast']['elapsed_time'].describe()"
   ]
  },
  {
   "cell_type": "code",
   "execution_count": 11,
   "metadata": {},
   "outputs": [
    {
     "data": {
      "text/plain": [
       "count                      2998\n",
       "mean     0 days 02:51:59.589726\n",
       "std      0 days 01:09:52.948327\n",
       "min             0 days 01:01:31\n",
       "25%      0 days 01:49:03.500000\n",
       "50%             0 days 02:08:45\n",
       "75%      0 days 04:05:12.750000\n",
       "max             0 days 05:14:20\n",
       "Name: elapsed_time, dtype: object"
      ]
     },
     "execution_count": 11,
     "metadata": {},
     "output_type": "execute_result"
    }
   ],
   "source": [
    "log_df[log_df['task'] == 'blastn']['elapsed_time'].describe()"
   ]
  },
  {
   "cell_type": "code",
   "execution_count": 12,
   "metadata": {},
   "outputs": [
    {
     "data": {
      "text/plain": [
       "Timedelta('0 days 00:27:17')"
      ]
     },
     "execution_count": 12,
     "metadata": {},
     "output_type": "execute_result"
    }
   ],
   "source": [
    "log_df[log_df['task'] == 'megablast']['end_dt'].max() - \\\n",
    "log_df[log_df['task'] == 'megablast']['start_dt'].min()"
   ]
  },
  {
   "cell_type": "code",
   "execution_count": 13,
   "metadata": {},
   "outputs": [
    {
     "data": {
      "text/plain": [
       "Timedelta('0 days 21:38:46')"
      ]
     },
     "execution_count": 13,
     "metadata": {},
     "output_type": "execute_result"
    }
   ],
   "source": [
    "log_df[log_df['task'] == 'blastn']['end_dt'].max() - \\\n",
    "log_df[log_df['task'] == 'blastn']['start_dt'].min()"
   ]
  },
  {
   "cell_type": "code",
   "execution_count": 14,
   "metadata": {},
   "outputs": [],
   "source": [
    "total_seqs = 278_775"
   ]
  },
  {
   "cell_type": "code",
   "execution_count": 15,
   "metadata": {},
   "outputs": [
    {
     "data": {
      "text/plain": [
       "Timedelta('0 days 00:01:50.978853')"
      ]
     },
     "execution_count": 15,
     "metadata": {},
     "output_type": "execute_result"
    }
   ],
   "source": [
    "log_df[log_df['task'] == 'blastn']['elapsed_time'].sum() / total_seqs"
   ]
  },
  {
   "cell_type": "code",
   "execution_count": 16,
   "metadata": {},
   "outputs": [
    {
     "data": {
      "text/plain": [
       "Timedelta('0 days 00:00:00.445093')"
      ]
     },
     "execution_count": 16,
     "metadata": {},
     "output_type": "execute_result"
    }
   ],
   "source": [
    "log_df[log_df['task'] == 'megablast']['elapsed_time'].sum() / total_seqs"
   ]
  },
  {
   "cell_type": "code",
   "execution_count": 17,
   "metadata": {},
   "outputs": [],
   "source": [
    "log_df.to_csv('logs_compared.tsv', index=False, sep='\\t')"
   ]
  },
  {
   "cell_type": "code",
   "execution_count": null,
   "metadata": {},
   "outputs": [],
   "source": []
  }
 ],
 "metadata": {
  "kernelspec": {
   "display_name": "Python 3",
   "language": "python",
   "name": "python3"
  },
  "language_info": {
   "codemirror_mode": {
    "name": "ipython",
    "version": 3
   },
   "file_extension": ".py",
   "mimetype": "text/x-python",
   "name": "python",
   "nbconvert_exporter": "python",
   "pygments_lexer": "ipython3",
   "version": "3.7.3"
  }
 },
 "nbformat": 4,
 "nbformat_minor": 2
}
